{
 "cells": [
  {
   "cell_type": "code",
   "execution_count": null,
   "metadata": {},
   "outputs": [
    {
     "name": "stdout",
     "output_type": "stream",
     "text": [
      "Введите дату или символ 'q' для завершения:\n",
      "Date parsed for The Moscow Times: 2002-10-02 00:00:00\n",
      "Date parsed for The Guardian: 2013-10-11 00:00:00\n",
      "Date parsed for Daily News: 1977-08-18 00:00:00\n",
      "Завершение программы.\n"
     ]
    }
   ],
   "source": [
    "from datetime import datetime\n",
    "\n",
    "# Функция, которая пытается распарсить дату в заданных форматах\n",
    "def parse_date(date_str):\n",
    "    \n",
    "    formats = [\n",
    "        (\"%A, %B %d, %Y\", \"The Moscow Times\"),   # The Moscow Times — Wednesday, October 2, 2002\n",
    "        (\"%A, %d.%m.%y\", \"The Guardian\"),         # The Guardian — Friday, 11.10.13\n",
    "        (\"%A, %d %B %Y\", \"Daily News\")            # Daily News — Thursday, 18 August 1977\n",
    "    ]\n",
    "\n",
    "    # Перебор форматов и попытка распарсить строку\n",
    "    for fmt, newspaper in formats:\n",
    "        try:\n",
    "            date_obj = datetime.strptime(date_str, fmt)\n",
    "            print(f\"Date parsed for {newspaper}: {date_obj}\")\n",
    "            return date_obj\n",
    "        except ValueError:\n",
    "            continue  # Если формат не подошел, пробуем следующий\n",
    "    \n",
    "    print(\"Не удалось определить формат даты. Попробуйте снова.\")\n",
    "    return None\n",
    "\n",
    "# Основной цикл программы\n",
    "print(\"Введите дату или символ 'q' для завершения:\")\n",
    "while True:\n",
    "    user_input = input(\"> \")\n",
    "    if user_input.lower() == 'q':\n",
    "        print(\"Завершение программы.\")\n",
    "        break\n",
    "    parse_date(user_input)\n"
   ]
  }
 ],
 "metadata": {
  "kernelspec": {
   "display_name": "Python 3",
   "language": "python",
   "name": "python3"
  },
  "language_info": {
   "codemirror_mode": {
    "name": "ipython",
    "version": 3
   },
   "file_extension": ".py",
   "mimetype": "text/x-python",
   "name": "python",
   "nbconvert_exporter": "python",
   "pygments_lexer": "ipython3",
   "version": "3.11.9"
  }
 },
 "nbformat": 4,
 "nbformat_minor": 2
}
